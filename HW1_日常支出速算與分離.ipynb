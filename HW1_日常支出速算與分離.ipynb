{
  "nbformat": 4,
  "nbformat_minor": 0,
  "metadata": {
    "colab": {
      "provenance": [],
      "authorship_tag": "ABX9TyMICam+vscqSWEQJNEV3Ksy",
      "include_colab_link": true
    },
    "kernelspec": {
      "name": "python3",
      "display_name": "Python 3"
    },
    "language_info": {
      "name": "python"
    }
  },
  "cells": [
    {
      "cell_type": "markdown",
      "metadata": {
        "id": "view-in-github",
        "colab_type": "text"
      },
      "source": [
        "<a href=\"https://colab.research.google.com/github/alisonnnnn88/programming_language/blob/main/HW1_%E6%97%A5%E5%B8%B8%E6%94%AF%E5%87%BA%E9%80%9F%E7%AE%97%E8%88%87%E5%88%86%E9%9B%A2.ipynb\" target=\"_parent\"><img src=\"https://colab.research.google.com/assets/colab-badge.svg\" alt=\"Open In Colab\"/></a>"
      ]
    },
    {
      "cell_type": "markdown",
      "source": [
        "# 日常支出速算與分攤（作業一）\n",
        "\n",
        "\n",
        "*   目標：從 Sheet 讀「消費紀錄」→ 計總額/分類小計/AA 分攤 → 寫回 Sheet Summary 分頁。\n",
        "*   AI 點子（可選）：請模型總結本週花錢習慣與建議（例如「外食過多」）。\n",
        "\n",
        "\n",
        "*   Sheet 欄位：date, category, item, amount, payer\n",
        "GoogleSheet: https://docs.google.com/spreadsheets/d/1czaqpE4VEd5M96To9slnmG-HBIPYcFnvvOtmNe_2B_w/edit?usp=sharing"
      ],
      "metadata": {
        "id": "nR5bjg0jfe1J"
      }
    },
    {
      "cell_type": "code",
      "source": [
        "from google.colab import auth\n",
        "auth.authenticate_user()\n",
        "\n",
        "import gspread\n",
        "from google.auth import default\n",
        "creds, _ = default()\n",
        "\n",
        "gc = gspread.authorize(creds)"
      ],
      "metadata": {
        "id": "1Ln_W6cNgA0I"
      },
      "execution_count": 1,
      "outputs": []
    },
    {
      "cell_type": "code",
      "source": [
        "import pandas as pd\n",
        "# read data and put it in a dataframe\n",
        "# 在 google 工作表載入 gsheets\n",
        "gsheets = gc.open_by_url('https://docs.google.com/spreadsheets/d/1czaqpE4VEd5M96To9slnmG-HBIPYcFnvvOtmNe_2B_w/edit?usp=sharing')\n"
      ],
      "metadata": {
        "id": "FrOSEvN7gBcG"
      },
      "execution_count": 2,
      "outputs": []
    },
    {
      "cell_type": "code",
      "source": [
        "# 從 gsheets 的 All-whiteboard-device 載入 sheets\n",
        "sheets = gsheets.worksheet('工作表1').get_all_values()\n",
        "# 將 sheets1 資料載入 pd 的 DataFrame 進行分析\n",
        "df = pd.DataFrame(sheets[1:], columns=sheets[0])\n",
        "# 取得最前面的5筆資料\n",
        "df.head()"
      ],
      "metadata": {
        "colab": {
          "base_uri": "https://localhost:8080/",
          "height": 53
        },
        "id": "fNt4SqLogL1I",
        "outputId": "12434f4d-e108-42a8-a9df-f8667f51fe15"
      },
      "execution_count": 3,
      "outputs": [
        {
          "output_type": "execute_result",
          "data": {
            "text/plain": [
              "Empty DataFrame\n",
              "Columns: [日期, 時間, 收入, 支出, 剩餘金額]\n",
              "Index: []"
            ],
            "text/html": [
              "\n",
              "  <div id=\"df-89ab16ab-bc67-4485-822b-ce6d232f6db4\" class=\"colab-df-container\">\n",
              "    <div>\n",
              "<style scoped>\n",
              "    .dataframe tbody tr th:only-of-type {\n",
              "        vertical-align: middle;\n",
              "    }\n",
              "\n",
              "    .dataframe tbody tr th {\n",
              "        vertical-align: top;\n",
              "    }\n",
              "\n",
              "    .dataframe thead th {\n",
              "        text-align: right;\n",
              "    }\n",
              "</style>\n",
              "<table border=\"1\" class=\"dataframe\">\n",
              "  <thead>\n",
              "    <tr style=\"text-align: right;\">\n",
              "      <th></th>\n",
              "      <th>日期</th>\n",
              "      <th>時間</th>\n",
              "      <th>收入</th>\n",
              "      <th>支出</th>\n",
              "      <th>剩餘金額</th>\n",
              "    </tr>\n",
              "  </thead>\n",
              "  <tbody>\n",
              "  </tbody>\n",
              "</table>\n",
              "</div>\n",
              "    <div class=\"colab-df-buttons\">\n",
              "\n",
              "  <div class=\"colab-df-container\">\n",
              "    <button class=\"colab-df-convert\" onclick=\"convertToInteractive('df-89ab16ab-bc67-4485-822b-ce6d232f6db4')\"\n",
              "            title=\"Convert this dataframe to an interactive table.\"\n",
              "            style=\"display:none;\">\n",
              "\n",
              "  <svg xmlns=\"http://www.w3.org/2000/svg\" height=\"24px\" viewBox=\"0 -960 960 960\">\n",
              "    <path d=\"M120-120v-720h720v720H120Zm60-500h600v-160H180v160Zm220 220h160v-160H400v160Zm0 220h160v-160H400v160ZM180-400h160v-160H180v160Zm440 0h160v-160H620v160ZM180-180h160v-160H180v160Zm440 0h160v-160H620v160Z\"/>\n",
              "  </svg>\n",
              "    </button>\n",
              "\n",
              "  <style>\n",
              "    .colab-df-container {\n",
              "      display:flex;\n",
              "      gap: 12px;\n",
              "    }\n",
              "\n",
              "    .colab-df-convert {\n",
              "      background-color: #E8F0FE;\n",
              "      border: none;\n",
              "      border-radius: 50%;\n",
              "      cursor: pointer;\n",
              "      display: none;\n",
              "      fill: #1967D2;\n",
              "      height: 32px;\n",
              "      padding: 0 0 0 0;\n",
              "      width: 32px;\n",
              "    }\n",
              "\n",
              "    .colab-df-convert:hover {\n",
              "      background-color: #E2EBFA;\n",
              "      box-shadow: 0px 1px 2px rgba(60, 64, 67, 0.3), 0px 1px 3px 1px rgba(60, 64, 67, 0.15);\n",
              "      fill: #174EA6;\n",
              "    }\n",
              "\n",
              "    .colab-df-buttons div {\n",
              "      margin-bottom: 4px;\n",
              "    }\n",
              "\n",
              "    [theme=dark] .colab-df-convert {\n",
              "      background-color: #3B4455;\n",
              "      fill: #D2E3FC;\n",
              "    }\n",
              "\n",
              "    [theme=dark] .colab-df-convert:hover {\n",
              "      background-color: #434B5C;\n",
              "      box-shadow: 0px 1px 3px 1px rgba(0, 0, 0, 0.15);\n",
              "      filter: drop-shadow(0px 1px 2px rgba(0, 0, 0, 0.3));\n",
              "      fill: #FFFFFF;\n",
              "    }\n",
              "  </style>\n",
              "\n",
              "    <script>\n",
              "      const buttonEl =\n",
              "        document.querySelector('#df-89ab16ab-bc67-4485-822b-ce6d232f6db4 button.colab-df-convert');\n",
              "      buttonEl.style.display =\n",
              "        google.colab.kernel.accessAllowed ? 'block' : 'none';\n",
              "\n",
              "      async function convertToInteractive(key) {\n",
              "        const element = document.querySelector('#df-89ab16ab-bc67-4485-822b-ce6d232f6db4');\n",
              "        const dataTable =\n",
              "          await google.colab.kernel.invokeFunction('convertToInteractive',\n",
              "                                                    [key], {});\n",
              "        if (!dataTable) return;\n",
              "\n",
              "        const docLinkHtml = 'Like what you see? Visit the ' +\n",
              "          '<a target=\"_blank\" href=https://colab.research.google.com/notebooks/data_table.ipynb>data table notebook</a>'\n",
              "          + ' to learn more about interactive tables.';\n",
              "        element.innerHTML = '';\n",
              "        dataTable['output_type'] = 'display_data';\n",
              "        await google.colab.output.renderOutput(dataTable, element);\n",
              "        const docLink = document.createElement('div');\n",
              "        docLink.innerHTML = docLinkHtml;\n",
              "        element.appendChild(docLink);\n",
              "      }\n",
              "    </script>\n",
              "  </div>\n",
              "\n",
              "\n",
              "    </div>\n",
              "  </div>\n"
            ],
            "application/vnd.google.colaboratory.intrinsic+json": {
              "type": "dataframe",
              "variable_name": "df",
              "repr_error": "Out of range float values are not JSON compliant: nan"
            }
          },
          "metadata": {},
          "execution_count": 3
        }
      ]
    },
    {
      "cell_type": "code",
      "source": [
        "import datetime"
      ],
      "metadata": {
        "id": "7V-_E1RtgTfT"
      },
      "execution_count": 4,
      "outputs": []
    },
    {
      "cell_type": "code",
      "source": [
        "# 讓使用者輸入資料\n",
        "date_str = input(\"請輸入日期 (格式：YYYY-MM-DD): \")\n",
        "# 檢查日期格式是否正確\n",
        "datetime.datetime.strptime(date_str, '%Y-%m-%d')\n",
        "\n",
        "time_str = input(\"請輸入時間 (格式：HH:MM): \")\n",
        "# 檢查時間格式是否正確\n",
        "datetime.datetime.strptime(time_str, '%H:%M')\n",
        "\n",
        "item = input(\"請輸入品項: \")\n",
        "amount = float(input(\"請輸入金額: \"))"
      ],
      "metadata": {
        "colab": {
          "base_uri": "https://localhost:8080/"
        },
        "id": "ECtHsTSTgWIE",
        "outputId": "eb636d3d-cff3-43f5-c209-02ef680c6333"
      },
      "execution_count": 6,
      "outputs": [
        {
          "name": "stdout",
          "output_type": "stream",
          "text": [
            "請輸入日期 (格式：YYYY-MM-DD): 2025-09-11\n",
            "請輸入時間 (格式：HH:MM): 07:39\n",
            "請輸入品項: 三明治\n",
            "請輸入金額: 35\n"
          ]
        }
      ]
    },
    {
      "cell_type": "code",
      "source": [
        "date_str"
      ],
      "metadata": {
        "id": "weQ5O-XcgbXo"
      },
      "execution_count": null,
      "outputs": []
    },
    {
      "cell_type": "code",
      "source": [
        "time_str"
      ],
      "metadata": {
        "id": "_mSVekgdgcCf"
      },
      "execution_count": null,
      "outputs": []
    },
    {
      "cell_type": "code",
      "source": [
        "item"
      ],
      "metadata": {
        "id": "O7oH26aPgfZ8"
      },
      "execution_count": null,
      "outputs": []
    },
    {
      "cell_type": "code",
      "source": [
        "count"
      ],
      "metadata": {
        "id": "Bnz2G2bMlNF4"
      },
      "execution_count": null,
      "outputs": []
    },
    {
      "cell_type": "code",
      "source": [
        "amount"
      ],
      "metadata": {
        "id": "Bmy2J6Xxgir7"
      },
      "execution_count": null,
      "outputs": []
    },
    {
      "cell_type": "code",
      "source": [
        "# 創建一個新的 DataFrame 來代表你要新增的資料\n",
        "new_data = pd.DataFrame([{\n",
        "    '日期': date_str,\n",
        "    '時間': time_str,\n",
        "    '品項': item,\n",
        "    '金額': amount\n",
        "}])\n",
        "\n",
        "# 使用 concat() 將新資料合併到舊的 df 中\n",
        "df = pd.concat([df, new_data], ignore_index=True)"
      ],
      "metadata": {
        "id": "S8Wdm-pEgpST"
      },
      "execution_count": null,
      "outputs": []
    },
    {
      "cell_type": "code",
      "source": [
        "df"
      ],
      "metadata": {
        "id": "wInUkIR7gqdK"
      },
      "execution_count": null,
      "outputs": []
    },
    {
      "cell_type": "code",
      "source": [
        "# 將 DataFrame 轉換成列表的列表 (list of lists)，這是 gspread 支援的資料格式\n",
        "data_to_write = df.values.tolist()\n",
        "\n",
        "# 第一步：取得工作表物件\n",
        "worksheet = gsheets.worksheet('工作表1')\n",
        "\n",
        "# 第二步：將資料寫入工作表\n",
        "worksheet.append_rows(values=data_to_write, value_input_option='USER_ENTERED')\n",
        "print(\"資料已成功寫入 Google 工作表！\")"
      ],
      "metadata": {
        "id": "1Sqsncmlguy4"
      },
      "execution_count": null,
      "outputs": []
    }
  ]
}